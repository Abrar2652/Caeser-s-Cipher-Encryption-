{
 "cells": [
  {
   "cell_type": "code",
   "execution_count": 2,
   "metadata": {},
   "outputs": [
    {
     "name": "stdout",
     "output_type": "stream",
     "text": [
      "enter the value of k: 3\n",
      "enter plain text: Hello\n"
     ]
    },
    {
     "data": {
      "text/plain": [
       "'Khoor'"
      ]
     },
     "execution_count": 2,
     "metadata": {},
     "output_type": "execute_result"
    }
   ],
   "source": [
    "a='abcdefghijklmnopqrstuvwxyz' \n",
    "def encrypt(plaintext,k): \n",
    "    global result\n",
    "    result = \"\"\n",
    "\n",
    "    for x in range(len(plaintext)):\n",
    "\n",
    "        char=plaintext[x]\n",
    "\n",
    "        if(char.isupper()):\n",
    "            result += chr((ord(char) + k +65)%26+65)\n",
    "\n",
    "        else:\n",
    "            result += chr((ord(char) + k -97)% 26+97)\n",
    "    return result\n",
    "\n",
    "\n",
    "k=int(input(\"enter the value of k: \")) \n",
    "plaintext=input(\"enter plain text: \") \n",
    "encrypt(plaintext,k)"
   ]
  },
  {
   "cell_type": "code",
   "execution_count": null,
   "metadata": {},
   "outputs": [],
   "source": []
  }
 ],
 "metadata": {
  "kernelspec": {
   "display_name": "Python 3",
   "language": "python",
   "name": "python3"
  },
  "language_info": {
   "codemirror_mode": {
    "name": "ipython",
    "version": 3
   },
   "file_extension": ".py",
   "mimetype": "text/x-python",
   "name": "python",
   "nbconvert_exporter": "python",
   "pygments_lexer": "ipython3",
   "version": "3.7.6"
  }
 },
 "nbformat": 4,
 "nbformat_minor": 4
}
